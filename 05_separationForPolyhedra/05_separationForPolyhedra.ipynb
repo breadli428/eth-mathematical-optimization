{
 "cells": [
  {
   "cell_type": "markdown",
   "metadata": {},
   "source": [
    "## Exercise: Separating polyhedra\n",
    "\n",
    "<font color='blue'><b>Goal:</b></font>\n",
    "Use LP techniques to find separating hyperplanes for disjoint polyhedra.\n",
    "\n",
    "\n",
    "Arguably one of the most useful results in convex analysis is that for two closed and convex sets with at least one of them being compact, precisely one of the following two statements holds true:\n",
    "- There exists a point in the intersection of the two sets.\n",
    "- The two sets admit a strictly separating hyperplane.\n",
    "\n",
    "In this exercise, we will see that the above also extends to polyhedra (note that this includes the case where none of the two sets is compact). Furthermore, we show that linear programs can be used to find a point in the intersection or a separating hyperplane.\n",
    "\n",
    "To this end, we consider two non-empty polyhedra $P_1, P_2 \\subseteq \\mathbb{R}^n$ defined by\n",
    "\n",
    "$$\n",
    "\\begin{array}{c@{\\hskip .25 cm}c@{\\hskip .25 cm}c}\n",
    "P_1 := \\{x \\in \\mathbb{R}^n\\colon A_1x \\le b_1\\}\n",
    "&\n",
    "\\text{and}\n",
    "&\n",
    "P_2 := \\{x \\in \\mathbb{R}^n\\colon A_2x \\le b_2\\}\\enspace,\n",
    "\\end{array}\n",
    "$$\n",
    "\n",
    "for matrices $A_1 \\in \\mathbb{R}^{m_1 \\times n}$ and $A_2 \\in \\mathbb{R}^{m_2 \\times n}$, and vectors $b_1 \\in \\mathbb{R}^{m_1}$ and $b_2 \\in \\mathbb{R}^{m_2}$."
   ]
  },
  {
   "cell_type": "markdown",
   "metadata": {},
   "source": [
    "### Case 1: Non-empty intersection\n",
    "\n",
    "If $P_1\\cap P_2$ is non-empty, then finding a point $x\\in P_1\\cap P_2$ is the problem of finding a feasible solution to the system\n",
    "$\\begin{pmatrix} A_1 \\\\ A_2 \\end{pmatrix} x \\leq \\begin{pmatrix} b_1 \\\\ b_2 \\end{pmatrix}$.\n",
    "This feasibility problem can be turned into a linear optimization problem by adding any objective, for example the zero objective. Thus, we see that $P_1$ and $P_2$ have non-empty intersection if the linear program\n",
    "\n",
    "$$(\\star)\\qquad\n",
    "\\begin{array}{rrcl}\n",
    "\\max & 0^\\top x \\\\\n",
    "& A_1 x & \\leq & b_1\\\\\n",
    "& A_2 x & \\leq & b_2 \\\\\n",
    "& x & \\in & \\mathbb{R}^n \n",
    "\\end{array}\n",
    "$$\n",
    "\n",
    "is feasible, and a feasible solution then is a point in the intersection of the two polyhedra."
   ]
  },
  {
   "cell_type": "markdown",
   "metadata": {},
   "source": [
    "### Case 2: Empty intersection\n",
    "\n",
    "If the intersection $P_1\\cap P_2$ is empty, we want to prove that there exists a strictly separating hyperplane for $P_1$ and $P_2$. In other words, we want to find a nonzero vector $c \\in \\mathbb{R}^n$ and a value $\\alpha \\in \\mathbb{R}$ such that \n",
    "\n",
    "$$\n",
    "\\begin{array}{c@{\\hskip .25 cm}c}\n",
    "c^\\top x ~ < ~ \\alpha ~ < ~ c^\\top y\n",
    "&\n",
    "\\forall ~ x \\in P_1 ~\\text{and}~y \\in P_2\\enspace.\n",
    "\\end{array}\n",
    "$$\n",
    "\n",
    "In particular, this implies that we need\n",
    "\n",
    "$$\n",
    "\\max\\{c^\\top x\\colon x \\in P_1\\} ~ < ~ \\min\\{ c^\\top y\\colon y \\in P_2\\}\\enspace,\n",
    "$$\n",
    "\n",
    "and the value of $\\alpha$ can then be chosen as $\\alpha = \\frac12\\left(\\max\\{c^\\top x\\colon x \\in P_1\\}+\\min\\{ c^\\top y\\colon y \\in P_2\\}\\right)$ (think about why this is the case). Note that the above inequality also implies that both the minimization problem and the maximization problem admit a finite optimal value, and thus $\\alpha$ is well-defined.\n",
    "\n",
    "Equivalently (argue why), we can formulate the problem as finding a vector $c$ such that\n",
    "\n",
    "$$\n",
    "(\\star\\star) \\qquad\n",
    "\\max\\{c^\\top x\\colon x \\in P_1\\} + \\max\\{ -c^\\top y\\colon y \\in P_2\\} < 0 \\enspace.\n",
    "$$\n",
    "\n",
    "Note that the vector $c$ appears in both problems above, so we better not treat the problems independently. To this end, we could thus try to combine the maximization problems into one problem (think about why this can be done) by rewriting the above as\n",
    "\n",
    "$$\n",
    "\\max\\{c^\\top (x - y)\\colon c \\in \\mathbb{R}^n, ~x \\in P_1,~y \\in P_2\\}  < 0\\enspace.\n",
    "$$\n",
    "\n",
    "However, this problem is not a <i>linear</i> optimization problem because $c$ is a variable that we want to find! This means that we have to try something different. Fortunately, it turns out that we can avoid this nonlinearity by exploiting duality. Recall that by strong linear programming duality, we have\n",
    "\n",
    "$$\n",
    "(\\tilde{\\star}) \\qquad \\max\\{c^\\top x\\colon A_1x \\le b_1\\}  \n",
    "= \\min\\{ w^\\top b_1\\colon w^\\top A_1 = c ~\\text{and}~ w \\ge 0\\}\\enspace,\n",
    "$$\n",
    "\n",
    "and\n",
    "\n",
    "$$\n",
    "(\\hat{\\star}) \\qquad \\max\\{-c^\\top y\\colon A_2 y \\le b_2\\}  \n",
    "= \\min\\{ u^\\top b_2\\colon u^\\top A_2 = -c ~\\text{and}~ u \\ge 0\\}\\enspace.\n",
    "$$\n",
    "\n",
    "<font color='blue'><b>Your first task:</b></font> (note that this is not a coding exercise)\n",
    "- Use $(\\tilde{\\star})$ and $(\\hat{\\star})$ to rewrite the two maximization problems in $(\\star\\star)$ as a single linear minimization problem. If you eliminate the unknown $c$, how are the linear program that you obtain and the linear program $(\\star)$ related? What does the assumption $P_1\\cap P_2=\\emptyset$ imply for the linear programs? \n",
    "- Can you exploit the previous insights to write a bounded linear program such that from an optimal solution, you can find a suitable normal vector $c$ of a $P_1$-$P_2$-separating hyperplane?<br>\n",
    "<font color='red'><b>Note:</b></font> Make sure that your LP does not have an optimal value of $- \\infty$. \n",
    "If it does, then we may not be able to determine what the separting hyperplane is.\n",
    "You can prevent this by adding a suitable inequality to your LP."
   ]
  },
  {
   "cell_type": "code",
   "execution_count": null,
   "metadata": {},
   "outputs": [],
   "source": [
    "# Write the answer for the first task here\n",
    "\n"
   ]
  },
  {
   "cell_type": "markdown",
   "metadata": {},
   "source": [
    "$$\n",
    "\\begin{array}{cccc}\n",
    "\\min & w^\\top b_1 & + & u^\\top b_2 \\\\\n",
    "& w^\\top A_1 & + & u^\\top A_2 & = & 0 \\\\\n",
    "& & w & \\in & \\mathbb{R}^{m_1} \\\\\n",
    "& & u & \\in & \\mathbb{R}^{m_2}\n",
    "\\end{array}\n",
    "$$\n"
   ]
  },
  {
   "cell_type": "markdown",
   "metadata": {},
   "source": [
    "- The single linear minimization problem above is the dual problem of the primal linear program $(\\star)$.\n",
    "- $P_1\\cap P_2=\\emptyset$ implies the primal problem to be infeasible, and thus the dual problem to be unbounded.\n",
    "- $c = (w^\\top A_1)^\\top$\n",
    "- In order to formulate a bounded linear program, we can add an arbitrary equality constraint to the dual problem above, since we only focus on whether the objective value is negative and do not care much on what specific optimal value it will reach. Then it becomes"
   ]
  },
  {
   "cell_type": "markdown",
   "metadata": {},
   "source": [
    "$$\n",
    "\\begin{array}{cccc}\n",
    "\\min & w^\\top b_1 & + & u^\\top b_2 \\\\\n",
    "& w^\\top b_1 & + & u^\\top b_2 & = & -1\\\\\n",
    "& w^\\top A_1 & + & u^\\top A_2 & = & 0 \\\\\n",
    "& & w & \\in & \\mathbb{R}_{\\geq 0}^{m_1} \\\\\n",
    "& & u & \\in & \\mathbb{R}_{\\geq 0}^{m_2}\n",
    "\\end{array}\n",
    "$$\n"
   ]
  },
  {
   "cell_type": "markdown",
   "metadata": {},
   "source": [
    "<font color='blue'><b>Your second task:</b></font>  Test whether the polyhedra \n",
    "\n",
    "$$\n",
    "P_1 := \\left\\{x \\in \\mathbb{R}^3\\colon \n",
    "\\begin{bmatrix}\n",
    "0&0&1\\\\\n",
    "2&0&-3\\\\\n",
    "-9&4&12\\\\\n",
    "5&-5&-6\n",
    "\\end{bmatrix}\n",
    "x \\le \n",
    "\\begin{bmatrix}\n",
    "0\\\\0\\\\10\\\\10\n",
    "\\end{bmatrix}\n",
    "\\right\\}\n",
    "$$\n",
    "\n",
    "and\n",
    "\n",
    "$$\n",
    "P_2 := \n",
    "\\left\\{x \\in \\mathbb{R}^3 \\colon\n",
    "\\begin{bmatrix}\n",
    "-2&1&2\\\\\n",
    "0&-1&0\\\\\n",
    "-4&2&7\\\\\n",
    "6&-2&-7\n",
    "\\end{bmatrix}\n",
    "x \\le \n",
    "\\begin{bmatrix}\n",
    "-1\\\\-1\\\\4\\\\7\n",
    "\\end{bmatrix}\n",
    "\\right\\}\n",
    "$$\n",
    "\n",
    "are disjoint or not. If yes, find a separating hyperplane, i.e., find $c$ and $\\alpha$ with the properties described earlier; if no, find a point in $P_1\\cap P_2$."
   ]
  },
  {
   "cell_type": "code",
   "execution_count": 51,
   "metadata": {},
   "outputs": [],
   "source": [
    "# Add code for the second task here\n",
    "\n",
    "from pulp import *\n",
    "import numpy as np\n",
    "\n",
    "Seperation_LP = LpProblem(\"Seperation\", LpMinimize)\n",
    "\n",
    "variables_w = [LpVariable(f'w{i}', lowBound=0)\n",
    "              for i in range(4)]\n",
    "\n",
    "variables_u = [LpVariable(f'u{i}', lowBound=0)\n",
    "              for i in range(4)]\n",
    "\n",
    "A_1 = np.matrix([[0, 0, 1], [2, 0, -3], [-9, 4, 12], [5, -5, -6]])\n",
    "A_2 = np.matrix([[-2, 1, 2], [0, -1, 0], [-4, 2, 7], [6, -2, -7]])\n",
    "b_1 = np.matrix([[0], [0], [10], [10]])\n",
    "b_2 = np.matrix([[-1], [-1], [4], [7]])\n",
    "\n",
    "w = np.transpose(np.matrix(variables_w))\n",
    "u = np.transpose(np.matrix(variables_u))\n",
    "\n",
    "obj = np.matmul(np.transpose(w), b_1) + np.matmul(np.transpose(u), b_2)\n",
    "constr_1 = np.matmul(np.transpose(w), b_1) + np.matmul(np.transpose(u), b_2)\n",
    "constr_2 = np.transpose(np.matmul(np.transpose(w), A_1) + np.matmul(np.transpose(u), A_2))"
   ]
  },
  {
   "cell_type": "code",
   "execution_count": 52,
   "metadata": {},
   "outputs": [
    {
     "name": "stdout",
     "output_type": "stream",
     "text": [
      "Seperation:\n",
      "MINIMIZE\n",
      "-1*u0 + -1*u1 + 4*u2 + 7*u3 + 10*w2 + 10*w3 + 0\n",
      "SUBJECT TO\n",
      "_C1: - u0 - u1 + 4 u2 + 7 u3 + 10 w2 + 10 w3 = -1\n",
      "\n",
      "_C2: - 2 u0 - 4 u2 + 6 u3 + 2 w1 - 9 w2 + 5 w3 = 0\n",
      "\n",
      "_C3: u0 - u1 + 2 u2 - 2 u3 + 4 w2 - 5 w3 = 0\n",
      "\n",
      "_C4: 2 u0 + 7 u2 - 7 u3 + w0 - 3 w1 + 12 w2 - 6 w3 = 0\n",
      "\n",
      "VARIABLES\n",
      "u0 Continuous\n",
      "u1 Continuous\n",
      "u2 Continuous\n",
      "u3 Continuous\n",
      "w0 Continuous\n",
      "w1 Continuous\n",
      "w2 Continuous\n",
      "w3 Continuous\n",
      "\n"
     ]
    },
    {
     "data": {
      "text/plain": [
       "1"
      ]
     },
     "execution_count": 52,
     "metadata": {},
     "output_type": "execute_result"
    }
   ],
   "source": [
    "Seperation_LP += obj[0, 0]\n",
    "Seperation_LP += constr_1[0, 0] == -1\n",
    "for row in range(constr_2.shape[0]):\n",
    "    Seperation_LP += constr_2[row, 0] == 0\n",
    "\n",
    "print(Seperation_LP)\n",
    "Seperation_LP.solve()"
   ]
  },
  {
   "cell_type": "code",
   "execution_count": 77,
   "metadata": {},
   "outputs": [],
   "source": [
    "w_value = []\n",
    "for row in range(w.shape[0]):\n",
    "    w_value.append(w[row, 0].value())\n",
    "\n",
    "w_value_matrix = np.transpose(np.matrix(w_value))\n",
    "c = np.transpose(np.matmul(np.transpose(w_value_matrix), A_1))"
   ]
  },
  {
   "cell_type": "code",
   "execution_count": 78,
   "metadata": {},
   "outputs": [
    {
     "data": {
      "text/plain": [
       "matrix([[ 1.],\n",
       "        [ 0.],\n",
       "        [-1.]])"
      ]
     },
     "execution_count": 78,
     "metadata": {},
     "output_type": "execute_result"
    }
   ],
   "source": [
    "c"
   ]
  },
  {
   "cell_type": "code",
   "execution_count": 79,
   "metadata": {},
   "outputs": [
    {
     "name": "stdout",
     "output_type": "stream",
     "text": [
      "P1:\n",
      "MAXIMIZE\n",
      "1.0*x0 + -1.0*x2 + 0.0\n",
      "SUBJECT TO\n",
      "_C1: x2 <= 0\n",
      "\n",
      "_C2: 2 x0 - 3 x2 <= 0\n",
      "\n",
      "_C3: - 9 x0 + 4 x1 + 12 x2 <= 10\n",
      "\n",
      "_C4: 5 x0 - 5 x1 - 6 x2 <= 10\n",
      "\n",
      "VARIABLES\n",
      "x0 free Continuous\n",
      "x1 free Continuous\n",
      "x2 free Continuous\n",
      "\n"
     ]
    }
   ],
   "source": [
    "P1_LP = LpProblem(\"P1\", LpMaximize)\n",
    "variables_x = [LpVariable(f'x{i}') for i in range(3)]\n",
    "x_P1 = np.transpose(np.matrix(variables_x))\n",
    "obj_P1 = np.matmul(np.transpose(c), x_P1)\n",
    "constr_P1 = np.matmul(A_1, x_P1)\n",
    "P1_LP += obj_P1[0, 0]\n",
    "for row in range(constr_P1.shape[0]):\n",
    "    P1_LP += constr_P1[row, 0] <= b_1[row, 0]\n",
    "print(P1_LP)\n",
    "P1_LP.solve()\n",
    "\n",
    "alpha_P1 = value(P1_LP.objective)"
   ]
  },
  {
   "cell_type": "code",
   "execution_count": 73,
   "metadata": {},
   "outputs": [
    {
     "data": {
      "text/plain": [
       "1.9737298e-16"
      ]
     },
     "execution_count": 73,
     "metadata": {},
     "output_type": "execute_result"
    }
   ],
   "source": [
    "alpha_P1"
   ]
  },
  {
   "cell_type": "code",
   "execution_count": 74,
   "metadata": {},
   "outputs": [],
   "source": [
    "P2_LP = LpProblem(\"P2\", LpMinimize)\n",
    "variables_x = [LpVariable(f'x{i}') for i in range(3)]\n",
    "x_P2 = np.transpose(np.matrix(variables_x))\n",
    "obj_P2 = np.matmul(np.transpose(c), x_P2)\n",
    "constr_P2 = np.matmul(A_2, x_P2)\n",
    "P2_LP += obj_P2[0, 0]\n",
    "for row in range(constr_P2.shape[0]):\n",
    "    P2_LP += constr_P2[row, 0] <= b_2[row, 0]\n",
    "# print(P2_LP)\n",
    "P2_LP.solve()\n",
    "\n",
    "alpha_P2 = value(P2_LP.objective)"
   ]
  },
  {
   "cell_type": "code",
   "execution_count": 75,
   "metadata": {},
   "outputs": [
    {
     "data": {
      "text/plain": [
       "1.0"
      ]
     },
     "execution_count": 75,
     "metadata": {},
     "output_type": "execute_result"
    }
   ],
   "source": [
    "alpha_P2"
   ]
  },
  {
   "cell_type": "code",
   "execution_count": 67,
   "metadata": {},
   "outputs": [],
   "source": [
    "alpha = (alpha_P1 + alpha_P2) / 2"
   ]
  },
  {
   "cell_type": "code",
   "execution_count": 68,
   "metadata": {},
   "outputs": [
    {
     "name": "stdout",
     "output_type": "stream",
     "text": [
      "c: [[ 1.]\n",
      " [ 0.]\n",
      " [-1.]]\n",
      "alpha: 0.5000000000000001\n"
     ]
    }
   ],
   "source": [
    "print(f'c:', c)\n",
    "print(f'alpha:', alpha)"
   ]
  },
  {
   "cell_type": "code",
   "execution_count": null,
   "metadata": {},
   "outputs": [],
   "source": []
  }
 ],
 "metadata": {
  "kernelspec": {
   "display_name": "Python 3",
   "language": "python",
   "name": "python3"
  },
  "language_info": {
   "codemirror_mode": {
    "name": "ipython",
    "version": 3
   },
   "file_extension": ".py",
   "mimetype": "text/x-python",
   "name": "python",
   "nbconvert_exporter": "python",
   "pygments_lexer": "ipython3",
   "version": "3.7.7"
  }
 },
 "nbformat": 4,
 "nbformat_minor": 4
}
