{
 "cells": [
  {
   "cell_type": "markdown",
   "metadata": {},
   "source": [
    "# Solution: Shortest $s$-$t$ path \n",
    "\n",
    "The required function can be implemented as follows."
   ]
  },
  {
   "cell_type": "code",
   "execution_count": null,
   "metadata": {},
   "outputs": [],
   "source": [
    "def distanceSToT(G):\n",
    "    import pulp\n",
    "    # set up the lp\n",
    "    STdistance = pulp.LpProblem(\"STdistance\", pulp.LpMaximize)\n",
    "\n",
    "    # create variables\n",
    "    d = {}\n",
    "    for node in G.nodes:\n",
    "        d[node] = pulp.LpVariable(f\"d_{node}\")\n",
    "    \n",
    "    # set objective\n",
    "    STdistance += d[\"t\"]\n",
    "\n",
    "    # add constraints \n",
    "    for node in G.nodes:\n",
    "        STdistance += d[node]>=0\n",
    "        \n",
    "    STdistance += d[\"s\"] ==0\n",
    "    \n",
    "    for edge in G.edges:\n",
    "        u = edge[0]\n",
    "        v = edge[1]\n",
    "        STdistance += d[v]-d[u]<=G[u][v][\"length\"]\n",
    "\n",
    "    # solve\n",
    "    status = STdistance.solve()\n",
    "    \n",
    "    assert status == 1, f\"LP was not solved to optimality, exit status was {status}.\"\n",
    "    \n",
    "    return pulp.value(STdistance.objective)"
   ]
  },
  {
   "cell_type": "markdown",
   "metadata": {},
   "source": [
    "## Testing your approach\n",
    "\n",
    "### Check on the toy example"
   ]
  },
  {
   "cell_type": "code",
   "execution_count": null,
   "metadata": {},
   "outputs": [],
   "source": [
    "import shortestPath_module as helpers\n",
    "%matplotlib inline\n",
    "\n",
    "G = helpers.toy_example()\n",
    "helpers.draw(G)\n",
    "helpers.check(distanceSToT, G)"
   ]
  },
  {
   "cell_type": "markdown",
   "metadata": {},
   "source": [
    "### Checks on random instances"
   ]
  },
  {
   "cell_type": "code",
   "execution_count": null,
   "metadata": {},
   "outputs": [],
   "source": [
    "G = helpers.random_graph(15)\n",
    "helpers.draw(G)\n",
    "helpers.check(distanceSToT, G)"
   ]
  }
 ],
 "metadata": {
  "kernelspec": {
   "display_name": "Python 3",
   "language": "python",
   "name": "python3"
  },
  "language_info": {
   "codemirror_mode": {
    "name": "ipython",
    "version": 3
   },
   "file_extension": ".py",
   "mimetype": "text/x-python",
   "name": "python",
   "nbconvert_exporter": "python",
   "pygments_lexer": "ipython3",
   "version": "3.7.3"
  }
 },
 "nbformat": 4,
 "nbformat_minor": 4
}
