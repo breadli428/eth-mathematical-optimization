{
 "cells": [
  {
   "cell_type": "markdown",
   "metadata": {},
   "source": [
    "## Exercise: Connected components and running time\n",
    "\n",
    "<font color='blue'><b>Goal:</b></font>\n",
    "Implement basic graph algorithms (BFS, finding the connected component of a vertex, counting connected components of a graph) and measure execution times in Python.\n",
    "\n",
    "---"
   ]
  },
  {
   "cell_type": "markdown",
   "metadata": {},
   "source": [
    "### Implementing the breadth-first-search algorithm (BFS)\n",
    "\n",
    "In class, you've seen the BFS algorithm for computing distances from a fixed vertex $v_1\\in V$ in a graph $G=(V,E)$.\n",
    "\n",
    "<font color='blue'><b>Your first task:</b></font> Implement the BFS algorithm, following the pseudocode given in Algorithm 2 in the script. The following might be helpful:\n",
    "- Define a node attribute to store the distances to the starting vertex $v_1$.\n",
    "- To represent $\\infty$, which you need in the initialization phase, import the `math` module and use `math.inf`.\n",
    "- Return a dictionary that has the nodes of $G$ as keys, and the distances to $v_1$ as values."
   ]
  },
  {
   "cell_type": "code",
   "execution_count": 20,
   "metadata": {},
   "outputs": [],
   "source": [
    "import math\n",
    "\n",
    "def bfs(G, v1):\n",
    "    \n",
    "    ### implement BFS here\n",
    "    V = G.nodes\n",
    "    E = G.edges\n",
    "    dist = dict.fromkeys(V, math.inf)\n",
    "    dist[v1] = 0\n",
    "    L = [v1]\n",
    "    k = 1\n",
    "    while L:\n",
    "        L_new = []\n",
    "        N_L = []\n",
    "        for u in V:\n",
    "            for w in L:\n",
    "                if (u, w) in E or (w, u) in E:\n",
    "                    N_L.append(u)\n",
    "        for v in N_L:\n",
    "            if dist[v] == math.inf:\n",
    "                dist[v] = k\n",
    "                L_new.append(v)\n",
    "        k = k + 1\n",
    "        L = L_new\n",
    "    \n",
    "    return dist"
   ]
  },
  {
   "cell_type": "markdown",
   "metadata": {},
   "source": [
    "For a quick sanity check of your implementation, run the example below and compare the calculated distances to the ones that you can infer from the picture.\n",
    "Note that the example generates graphs using the function `gnp_random_graph(n,p)` from `networkx`, which takes two arguments $n$ and $p$, and then returns an Erdös-Renyi random graph on $n$ vertices, where every one of the potential $\\binom n 2$ edges appears with probability $p$. Thus, repeatedly running the subsequent code cell, you'll always get different graphs to check your implementation on."
   ]
  },
  {
   "cell_type": "code",
   "execution_count": 22,
   "metadata": {
    "scrolled": false
   },
   "outputs": [
    {
     "name": "stdout",
     "output_type": "stream",
     "text": [
      "[1, 4, 6]\n",
      "[0, 0, 0, 1, 3, 3, 3, 4, 5, 6, 6]\n",
      "[1, 4, 4, 6]\n",
      "{0: 0, 1: 1, 2: inf, 3: 2, 4: 1, 5: 2, 6: 1}\n"
     ]
    },
    {
     "data": {
      "image/png": "[encoded data removed]",
      "text/plain": [
       "<Figure size 432x288 with 1 Axes>"
      ]
     },
     "metadata": {},
     "output_type": "display_data"
    }
   ],
   "source": [
    "import networkx as nx\n",
    "%matplotlib inline\n",
    "\n",
    "# random graph G\n",
    "G = nx.gnp_random_graph(7, 0.4)\n",
    "\n",
    "# draw G\n",
    "node_pos =  nx.circular_layout(G)\n",
    "nx.draw(G, with_labels = True, pos = node_pos)\n",
    "\n",
    "# calculate and print distances from vertex 0\n",
    "dist = bfs(G,0)\n",
    "print(dist)"
   ]
  },
  {
   "cell_type": "markdown",
   "metadata": {},
   "source": [
    "---\n",
    "\n",
    "### Measuring execution time\n",
    "\n",
    "You've seen in class that BFS has a running time that is at most linear in the input size, i.e., if the input graph is $G=(V,E)$, then the running time is in $O(|V|+|E|)$ (see Theorem 3.14). We now want to check if we can reproduce this running time behaviour in practice by measuring execution times of your implementation of the BFS algorithm.\n",
    "\n",
    "To this end, we use the module `time`, which provides a function `time()` to measure execution times. Study the code below to see how it is used. Note that once again, we generate random graphs for the testing purposes. As we want to compare execution times to $|V|+|E|$, we also store this quantity in every iteration."
   ]
  },
  {
   "cell_type": "code",
   "execution_count": null,
   "metadata": {},
   "outputs": [],
   "source": [
    "import math\n",
    "import time\n",
    "import networkx as nx\n",
    "\n",
    "# number of vertices for the random graphs\n",
    "nn = [math.floor(math.pow(10,0.5*i)) for i in range(2,8)]\n",
    "sizes = [] # list for storing graph sizes |V|+|E|\n",
    "times = [] # list for storing measured execution times\n",
    "\n",
    "for n in nn:\n",
    "    # generate random graph\n",
    "    G = nx.gnp_random_graph(n, 0.4)\n",
    "    # store size\n",
    "    sizes = sizes + [G.number_of_nodes() + G.number_of_edges()]\n",
    "    # measure execution time of bfs()\n",
    "    start_time = time.time()\n",
    "    bfs(G, 0)\n",
    "    end_time = time.time()\n",
    "    # store time\n",
    "    times = times + [end_time - start_time]"
   ]
  },
  {
   "cell_type": "markdown",
   "metadata": {},
   "source": [
    "Let's plot the measured execution times. Go through the subsequent code block and run it to obtain the plot. Note that we use logarithmic axes for the plot, which is particularly suitable for an analysis of execution times as we do it here."
   ]
  },
  {
   "cell_type": "code",
   "execution_count": null,
   "metadata": {},
   "outputs": [],
   "source": [
    "import matplotlib.pyplot as plt\n",
    "%matplotlib inline\n",
    "\n",
    "# plot measured data\n",
    "plt.plot(sizes, times, 'x-', \n",
    "         label = 'measured execution time')\n",
    "# plot reference for linear growth\n",
    "#   (scaled to be aligned with data at first measurment)\n",
    "plt.plot(sizes, [s*times[0]/size[0] for s in sizes], '-', \n",
    "         label = 'reference for growth $O(|V|+|E|)$')\n",
    "# logarithmic scale for axes\n",
    "plt.xscale('log')\n",
    "plt.yscale('log')\n",
    "# title, axis labels, legend placement\n",
    "plt.title('Execution time of BFS implementation')\n",
    "plt.xlabel('$|V|+|E|$')\n",
    "plt.ylabel('execution time [s]')\n",
    "plt.legend(loc = 'best')\n",
    "# display plot\n",
    "plt.show()"
   ]
  },
  {
   "cell_type": "markdown",
   "metadata": {},
   "source": [
    "<font color='blue'><b>Your second task:</b></font> Explain what the plot shows. Does it support the hypothesis that the measured execution times depend linearly on the size of the underlying graph? Why/why not? (This is not a coding exercise.)"
   ]
  },
  {
   "cell_type": "markdown",
   "metadata": {},
   "source": [
    "`Write your answer here.`\n"
   ]
  },
  {
   "cell_type": "markdown",
   "metadata": {},
   "source": [
    "---\n",
    "\n",
    "### Counting connected components\n",
    "\n",
    "We'd like to use the BFS implementation from above to count the number of connected components of a graph. To start with, let's implement a function that finds the connected component of a given vertex.\n",
    "\n",
    "<font color='blue'><b>Your third task:</b></font> Complete the following function `find_cc(G, s)` such that it returns a list of precisely those vertices that are in the same connected component of the input graph $G$ as the input vertex $s$. You can call the BFS implementation that you implemented earlier!"
   ]
  },
  {
   "cell_type": "code",
   "execution_count": null,
   "metadata": {},
   "outputs": [],
   "source": [
    "import networkx as nx\n",
    "\n",
    "def find_cc(G, s):\n",
    "    \n",
    "    ### your implementation goes here\n",
    "    connected_to_s = []\n",
    "    \n",
    "    return list(connected_to_s)"
   ]
  },
  {
   "cell_type": "markdown",
   "metadata": {},
   "source": [
    "For quick sanity checks, you can once again look at small randomly generated graphs:"
   ]
  },
  {
   "cell_type": "code",
   "execution_count": null,
   "metadata": {},
   "outputs": [],
   "source": [
    "import networkx as nx\n",
    "%matplotlib inline\n",
    "\n",
    "# random graph G\n",
    "G = nx.gnp_random_graph(7, 0.25)\n",
    "\n",
    "# draw G\n",
    "node_pos =  nx.circular_layout(G)\n",
    "nx.draw(G, with_labels = True, pos = node_pos)\n",
    "\n",
    "# calculate and print the component of vertex 0\n",
    "comp = find_cc(G,0)\n",
    "print(comp)"
   ]
  },
  {
   "cell_type": "markdown",
   "metadata": {},
   "source": [
    "---\n",
    "\n",
    "Now we can use the function `find_cc` to count how many connected components there are. Go through the following code, which accomplishes this task."
   ]
  },
  {
   "cell_type": "code",
   "execution_count": null,
   "metadata": {},
   "outputs": [],
   "source": [
    "# A function for counting the number of connected components\n",
    "def count_cc(G):\n",
    "    \n",
    "    num_cc = 0             # counter for the number of connected components\n",
    "    vertices_found = []    # stores the vertices in connected components that were explored already\n",
    "    vertices = nx.nodes(G) # shorthand for nx.nodes(G)\n",
    "    \n",
    "    for v in vertices:     # loop through vertices\n",
    "        # if the component of v was not explored previously, do so now\n",
    "        if v not in vertices_found: \n",
    "            new_vertices = find_cc(G,v)\n",
    "            vertices_found = vertices_found + new_vertices\n",
    "            num_cc += 1 \n",
    "    \n",
    "    return num_cc"
   ]
  },
  {
   "cell_type": "markdown",
   "metadata": {},
   "source": [
    "Again, small random graphs can be used for sanity checks:"
   ]
  },
  {
   "cell_type": "code",
   "execution_count": null,
   "metadata": {},
   "outputs": [],
   "source": [
    "import networkx as nx\n",
    "%matplotlib inline\n",
    "\n",
    "# random graph G\n",
    "G = nx.gnp_random_graph(7, 0.25)\n",
    "\n",
    "# draw G\n",
    "vx_pos =  nx.circular_layout(G)\n",
    "nx.draw(G, with_labels = True, pos = vx_pos)\n",
    "\n",
    "# count components and print result\n",
    "comp = count_cc(G)\n",
    "print(comp)"
   ]
  },
  {
   "cell_type": "markdown",
   "metadata": {},
   "source": [
    "<font color='blue'><b>Your fourth task:</b></font>\n",
    "\n",
    "- Analyze the running time of a call to the function `count_cc` and provide a bound in terms of the number of vertices and edges of the input graph (this is not a programming exercise).\n",
    "- Measure execution times of the `count_cc` function applied to Erdös-Renyi random graphs on $n$ vertices with edge probability $p=\\frac{\\log n}{10 n}$ (we choose this probability decreasing in $n$ to have good chances that the resulting random graph does not consist of a single component only). Plot these measured execution times compared to the input size $|V|+|E|$ of the graph. You can use the same $n$ as we used above when plotting execution times of `bfs`.\n",
    "- Check if your theoretical analysis and the measurments are aligned, and comment on your findings."
   ]
  },
  {
   "cell_type": "markdown",
   "metadata": {},
   "source": [
    "`Write the answer to the first subtask here.`"
   ]
  },
  {
   "cell_type": "code",
   "execution_count": null,
   "metadata": {},
   "outputs": [],
   "source": [
    "# Write code to measure execution times of 'count_cc' here.\n"
   ]
  },
  {
   "cell_type": "code",
   "execution_count": null,
   "metadata": {},
   "outputs": [],
   "source": [
    "# Write code to plot the measured times here.\n"
   ]
  },
  {
   "cell_type": "markdown",
   "metadata": {},
   "source": [
    "`Comment on your findings here.`"
   ]
  },
  {
   "cell_type": "markdown",
   "metadata": {},
   "source": [
    "---\n",
    "\n",
    "In the previous exercise, you probably observed that the execution times of `count_cc` grow quadratically in $|V|+|E|$, i.e., they achieve the upper bound obtained from a running time analysis. If you have a closer look at the implementation, you can observe that this is on the one hand due to the initialization step that is performed in each call to the BFS subroutine, and on the other due to the repeated checks of whether a vertex is already in the list of vertices that we found alredy.\n",
    "\n",
    "<font color='blue'><b>Your fifth task:</b></font> Can you come up with a more efficient implementation of the component counting procedure to match the claimed bound $O(|V|+|E|)$ in Exercise 3.18 of the script? As above, test your implementation on suitable random graphs and provide a plot comparing execution times of your algorithm and the function `count_cc` obtained earlier."
   ]
  },
  {
   "cell_type": "code",
   "execution_count": null,
   "metadata": {},
   "outputs": [],
   "source": [
    "# Implement an improved version of `count_cc` here, \n",
    "#   test it and compare it to `count_cc`.\n"
   ]
  }
 ],
 "metadata": {
  "kernelspec": {
   "display_name": "Python 3",
   "language": "python",
   "name": "python3"
  },
  "language_info": {
   "codemirror_mode": {
    "name": "ipython",
    "version": 3
   },
   "file_extension": ".py",
   "mimetype": "text/x-python",
   "name": "python",
   "nbconvert_exporter": "python",
   "pygments_lexer": "ipython3",
   "version": "3.7.7"
  }
 },
 "nbformat": 4,
 "nbformat_minor": 4
}
