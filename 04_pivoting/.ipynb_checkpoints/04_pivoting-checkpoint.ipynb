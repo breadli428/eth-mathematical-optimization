{
 "cells": [
  {
   "cell_type": "markdown",
   "metadata": {},
   "source": [
    "# Exercise: Simplex pivots in the short tableau\n",
    "<font color='blue'><b>Goal:</b></font>\n",
    "Writing a function to perform one pivot step in the short tableau.\n",
    "\n",
    "<font color='blue'><b>Required packages:</b></font>`numpy`"
   ]
  },
  {
   "cell_type": "markdown",
   "metadata": {},
   "source": [
    "Suppose you are given the following LP from the lecture notes:\n",
    "\n",
    "$$\\begin{equation}\\label{eq:sampleTermLp}\n",
    "\\begin{array}{rrcrcll}\n",
    "\\max z = &400 x_1 &+ &900 x_2 &       &    & \\\\\n",
    "         &x_1     &+ &4 x_2   & \\leq  &40  & \\text{(constraint 1)} \\\\\n",
    "         &2x_1    &+ & x_2    & \\leq  &42  & \\text{(constraint 2)}\\\\\n",
    "         &1.5x_1  &+ &3x_2    & \\leq  &36  & \\text{(constraint 3)}\\\\\n",
    "         &x_1     &  &        & \\geq  &0   & \\text{(non-negativity for $x_1$)}\\\\\n",
    "         &        &  &x_2     & \\geq  &0   & \\text{(non-negativity for $x_2$)}\\\\\n",
    "\\end{array}\n",
    "\\end{equation}$$\n",
    "This problem's graphical presentation looks as follows:\n",
    "\n",
    "![](pivoting_fig1.png)\n",
    "\n",
    "After adding slack variables, you obtain the short tableau\n",
    "$$\\begin{array}{c|rr|r}\n",
    "&x_1&x_2&1\\\\\n",
    "\\hline\n",
    "z&-400&-900&0\\\\\n",
    "\\hline\n",
    "y_1&1&4&40\\\\\n",
    "y_2&2&1&42\\\\\n",
    "y_3&1.5&3&36\n",
    "\\end{array}$$\n",
    "\n",
    "We will implement a function to perform pivoting steps on short tableaus as for example the one above."
   ]
  },
  {
   "cell_type": "markdown",
   "metadata": {},
   "source": [
    "## Additional `numpy` functionality\n",
    "For your task, you will need to perform row operations. When working with matrices in `numpy`, this can be done as follows. Let us first create a matrix $A$:"
   ]
  },
  {
   "cell_type": "code",
   "execution_count": 1,
   "metadata": {},
   "outputs": [
    {
     "data": {
      "text/plain": [
       "matrix([[1, 2],\n",
       "        [3, 4],\n",
       "        [5, 6]])"
      ]
     },
     "execution_count": 1,
     "metadata": {},
     "output_type": "execute_result"
    }
   ],
   "source": [
    "import numpy as np\n",
    "A = np.matrix(\n",
    "[\n",
    "    [1,2],\n",
    "    [3,4],\n",
    "    [5,6]\n",
    "])\n",
    "A"
   ]
  },
  {
   "cell_type": "markdown",
   "metadata": {},
   "source": [
    "To obtain the first row, we type"
   ]
  },
  {
   "cell_type": "code",
   "execution_count": 2,
   "metadata": {},
   "outputs": [
    {
     "data": {
      "text/plain": [
       "matrix([[1, 2]])"
      ]
     },
     "execution_count": 2,
     "metadata": {},
     "output_type": "execute_result"
    }
   ],
   "source": [
    "A[0,:]"
   ]
  },
  {
   "cell_type": "markdown",
   "metadata": {},
   "source": [
    "Subtracting the first row from the second, for example, can be done with the code"
   ]
  },
  {
   "cell_type": "code",
   "execution_count": 3,
   "metadata": {},
   "outputs": [
    {
     "data": {
      "text/plain": [
       "matrix([[1, 2],\n",
       "        [2, 2],\n",
       "        [5, 6]])"
      ]
     },
     "execution_count": 3,
     "metadata": {},
     "output_type": "execute_result"
    }
   ],
   "source": [
    "A[1,:] = A[1,:] - A[0,:]\n",
    "A"
   ]
  },
  {
   "cell_type": "markdown",
   "metadata": {},
   "source": [
    "To get the number of rows of $A$, type"
   ]
  },
  {
   "cell_type": "code",
   "execution_count": 4,
   "metadata": {},
   "outputs": [
    {
     "data": {
      "text/plain": [
       "3"
      ]
     },
     "execution_count": 4,
     "metadata": {},
     "output_type": "execute_result"
    }
   ],
   "source": [
    "A.shape[0]"
   ]
  },
  {
   "cell_type": "markdown",
   "metadata": {},
   "source": [
    "Analogously, we can select columns as follows:"
   ]
  },
  {
   "cell_type": "code",
   "execution_count": 5,
   "metadata": {},
   "outputs": [
    {
     "data": {
      "text/plain": [
       "matrix([[1],\n",
       "        [2],\n",
       "        [5]])"
      ]
     },
     "execution_count": 5,
     "metadata": {},
     "output_type": "execute_result"
    }
   ],
   "source": [
    "A[:,0]"
   ]
  },
  {
   "cell_type": "markdown",
   "metadata": {},
   "source": [
    "To get the number of columns of $A$, type"
   ]
  },
  {
   "cell_type": "code",
   "execution_count": 6,
   "metadata": {},
   "outputs": [
    {
     "data": {
      "text/plain": [
       "2"
      ]
     },
     "execution_count": 6,
     "metadata": {},
     "output_type": "execute_result"
    }
   ],
   "source": [
    "A.shape[1]"
   ]
  },
  {
   "cell_type": "markdown",
   "metadata": {},
   "source": [
    "Finally, to obtain an entry $A_{i,j}$, type (exemplified for $i=0$, $j=1$):"
   ]
  },
  {
   "cell_type": "code",
   "execution_count": 7,
   "metadata": {},
   "outputs": [
    {
     "data": {
      "text/plain": [
       "2"
      ]
     },
     "execution_count": 7,
     "metadata": {},
     "output_type": "execute_result"
    }
   ],
   "source": [
    "a_01 = A[0,1]\n",
    "a_01"
   ]
  },
  {
   "cell_type": "markdown",
   "metadata": {},
   "source": [
    "Furthermore, you may need to append a standard unit vector $v$ to a matrix $A$. This can be done as follows, where we exemplify the procedure with the first standard unit vector $e_1$:"
   ]
  },
  {
   "cell_type": "code",
   "execution_count": 8,
   "metadata": {},
   "outputs": [
    {
     "data": {
      "text/plain": [
       "matrix([[1., 1., 2.],\n",
       "        [0., 2., 2.],\n",
       "        [0., 5., 6.]])"
      ]
     },
     "execution_count": 8,
     "metadata": {},
     "output_type": "execute_result"
    }
   ],
   "source": [
    "v = np.transpose(np.matrix(np.zeros(A.shape[0])))\n",
    "v[0,] = 1 # first standard unit vector\n",
    "\n",
    "A = np.concatenate((v,A),axis=1)\n",
    "A"
   ]
  },
  {
   "cell_type": "markdown",
   "metadata": {},
   "source": [
    "Finally, to delete a column $i$, let's say for $i=0$ (the first column), type:"
   ]
  },
  {
   "cell_type": "code",
   "execution_count": null,
   "metadata": {},
   "outputs": [],
   "source": [
    "A = np.delete(A,[0],1)\n",
    "A"
   ]
  },
  {
   "cell_type": "markdown",
   "metadata": {},
   "source": [
    "## A pivoting function\n",
    "We now want to implement a function `pivot(T, i, j)` which takes in a short tableau $T$, and replaces the basis variable corresponding to row $i$ of the tableau by the variable corresponding to column $j$ of the tableau. By convention, the tableau $T$ should include the objective function row as the first row (the row with index $0$), and the right hand sides as the last column.\n",
    "\n",
    "To avoid accidental selection of a pivot from the objective function row or the column of right-hand sides, your function should check that the input indices $i$ and $j$ are indeed pointing at a potential pivot. If not, the function should print a message saying so, and return the input tableau. Similarly, if the indicated pivot element is zero (in which case the pivoting step cannot be performed), the function should print a message saying so, and return the input tableau.\n",
    "If a non-zero pivot is given, the pivoting step should be carried out, and the new tableau should be returned. Additionally, the function should print a message indicating whether or not the pivot was legal for phase II of the simplex method.\n",
    "\n",
    "Complete the given framework below to obtain the pivoting function with the desired functionality."
   ]
  },
  {
   "cell_type": "code",
   "execution_count": null,
   "metadata": {},
   "outputs": [],
   "source": [
    "def pivot(T,i,j):\n",
    "    \n",
    "    if (): # Check if the indices are not pointing at a potential pivot\n",
    "        print(\"[Error] Given indices are not pointing at a potential pivot.\")\n",
    "        return T\n",
    "\n",
    "    if (): # Check if the indicated pivot is zero\n",
    "        print(\"[Error] Given pivot is zero, step cannot be performed.\")\n",
    "        return T\n",
    "    \n",
    "    if (): # Check if indicated pivot is legal for phase II of Simplex Method\n",
    "        print(\"[Info] Given pivot is legal.\")\n",
    "    else:\n",
    "         print(\"[Warning] Given pivot is illegal.\")\n",
    "    \n",
    "    # Implement pivoting step here\n",
    "    T_pivoted = \n",
    "\n",
    "    return T_pivoted"
   ]
  },
  {
   "cell_type": "markdown",
   "metadata": {},
   "source": [
    "## Testing your implementation\n",
    "To check whether your implementation works, use your function to reproduce the following pivot steps from the lecture notes:\n",
    "\n",
    "![](pivoting_fig2.png)"
   ]
  },
  {
   "cell_type": "markdown",
   "metadata": {},
   "source": [
    "This can be done, for example, by running the code below:"
   ]
  },
  {
   "cell_type": "code",
   "execution_count": null,
   "metadata": {},
   "outputs": [],
   "source": [
    "import numpy as np\n",
    "T = np.matrix([\n",
    "    [-400,-900,0],\n",
    "    [1,4,40],\n",
    "    [2,1,42],\n",
    "    [1.5,3,36]\n",
    "])\n",
    "\n",
    "T = pivot(T,2,0)\n",
    "print(\"Vertex b\")\n",
    "print(T)\n",
    "\n",
    "T = pivot(T,3,1)\n",
    "print(\"Vertex c\")\n",
    "print(T)\n",
    "\n",
    "T = pivot(T,1,0)\n",
    "print(\"Vertex d\")\n",
    "print(T)"
   ]
  },
  {
   "cell_type": "markdown",
   "metadata": {},
   "source": [
    "Next, let us check whether your function gives a warning if the indicated pivot is not legal. To this end let us take another look at the graphical represenation of the original LP:\n",
    "\n",
    "![](pivoting_fig1.png)\n",
    "\n",
    "We see that the first and the second constraint are never both tight for any point in the polytope. In other words, there is no solution with $y_1=y_2=0$.\n",
    "\n",
    "Let us check whether your function detects that the pivoting step taking us to the solution with $y_1=y_2=0$ is illegal! To this end, note that we get to this solution from the tableau for \"verted $d$\" above if we pivot such that $y_2$ exits the basis and $y_3$ enters the basis. The following call executes precisely the pivoting operation corresponding to this basis change (assuming that you didn't change $T$ after the above pivoting steps)."
   ]
  },
  {
   "cell_type": "code",
   "execution_count": null,
   "metadata": {},
   "outputs": [],
   "source": [
    "T = pivot(T,1,1)\n",
    "print(T)"
   ]
  },
  {
   "cell_type": "markdown",
   "metadata": {},
   "source": [
    "Now, let us see whether your function correctly gives an error if a pivot operation cannot be performed. To this end, consider the following short tableau (which is unrelated to the LP above) taken from the script, and try to replace $y_1$ by $y_2$.\n",
    "\n",
    "$$\\begin{array}{c|rr|c}\n",
    " &y_3&y_2&1\\\\\n",
    "\\hline\n",
    "z&1&1&3\\\\\n",
    "\\hline\n",
    "y_1&1&0&3\\\\\n",
    "x_2&2&-1&3\\\\\n",
    "x_1&1&-1&1\n",
    "\\end{array}$$"
   ]
  },
  {
   "cell_type": "code",
   "execution_count": null,
   "metadata": {},
   "outputs": [],
   "source": [
    "# Apply your function to the tableau above.\n",
    "T = np.matrix([\n",
    "    [1,1,3],\n",
    "    [1,0,3],\n",
    "    [2,-1,3],\n",
    "    [1,-1,1]\n",
    "])\n",
    "T = pivot(T,1,1)"
   ]
  },
  {
   "cell_type": "markdown",
   "metadata": {},
   "source": [
    "Finally, you can apply your pivoting functions to other examples from class. By doing tests as the above ones, try to see whether the different cases are recognised correctly by your function!"
   ]
  }
 ],
 "metadata": {
  "kernelspec": {
   "display_name": "Python 3",
   "language": "python",
   "name": "python3"
  },
  "language_info": {
   "codemirror_mode": {
    "name": "ipython",
    "version": 3
   },
   "file_extension": ".py",
   "mimetype": "text/x-python",
   "name": "python",
   "nbconvert_exporter": "python",
   "pygments_lexer": "ipython3",
   "version": "3.7.7"
  }
 },
 "nbformat": 4,
 "nbformat_minor": 4
}
